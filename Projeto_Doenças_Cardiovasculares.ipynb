{
  "nbformat": 4,
  "nbformat_minor": 0,
  "metadata": {
    "colab": {
      "name": "Projeto Doenças Cardiovasculares.ipynb",
      "provenance": [],
      "collapsed_sections": [],
      "include_colab_link": true
    },
    "kernelspec": {
      "name": "python3",
      "display_name": "Python 3"
    }
  },
  "cells": [
    {
      "cell_type": "markdown",
      "metadata": {
        "id": "view-in-github",
        "colab_type": "text"
      },
      "source": [
        "<a href=\"https://colab.research.google.com/github/AndreAmorim05/data-science/blob/main/Projeto_Doen%C3%A7as_Cardiovasculares.ipynb\" target=\"_parent\"><img src=\"https://colab.research.google.com/assets/colab-badge.svg\" alt=\"Open In Colab\"/></a>"
      ]
    },
    {
      "cell_type": "markdown",
      "metadata": {
        "id": "w0OlvP4PEdzR"
      },
      "source": [
        "# Análise Exploratória de Dados - Doenças Cardiovasculares\n",
        "\n",
        "Doenças cardiovasculares são uma classe contendo diferentes tipos de doenças que afetam de alguma maneira o coração ou os vasos sanguíneos. Dentro da classe, existem várias doenças como angina de peito, cardiopatia, arritmia cardíaca e aneurisma da aorta.\n",
        "\n",
        "<center><img src=\"https://raw.githubusercontent.com/carlosfab/curso_data_science_na_pratica/master/modulo_03/396260-PCIO15-306.jpg\"></center>\n",
        "\n",
        "Apesar de ser uma das principais causas de morte em todo o mundo, estima-se que cerca de 90% das doenças cardiovasculares poderiam ser evitadas por meio da adoção de algumas medidas e mudanças no *lifestyle*.\n",
        "\n",
        "Existem hoje várias pesquisas na área de *Machine Learning* visando a construções de modelos preditivos que ajudem os médicos a descobrirem doenças cardiovasculares em seus pacientes.\n",
        "\n",
        "Estudos publicados na revista *Nature Biomedical Engineering* mostram que algoritmos de *Deep Learning* foram capazes de antecipar doenças cardíacas em até 5 anos.\n",
        "\n",
        "Definitivamente, o uso de Inteligência Artificial tem impactado profundamente a área da saúde, e tem proporcionado aos profissionais médicos insumos de inteligência cada vez mais precisos.\n",
        "\n"
      ]
    },
    {
      "cell_type": "markdown",
      "metadata": {
        "id": "F3XPABqpLFOX"
      },
      "source": [
        "## Obtenção dos Dados\n",
        "\n",
        "O conjunto principal de dados usado neste projeto foi coletado da ***Cleveland Clinic Foundation*** e se encontra disponível no conhecido [Repositório UCI *Machine Learning*](https://archive.ics.uci.edu/ml/datasets/heart+Disease). Ressalta-se que os nomes, identidade e documentos pessoais dos pacientes foram removidos completamente do banco de dados.\n",
        "\n",
        "O *dataset* processado contém dados de 303 pessoas e 76 atributos. Entretanto, os principais artigos e estudos publicados optaram por usar apenas 14 atributos, considerados de maior relevância. Da mesma maneira, este projeto de *Data Science* usará essas mesmas 14 variáveis principais.\n",
        "\n",
        "<p><img alt=\"Colaboratory logo\" height=\"100\" src=\"https://raw.githubusercontent.com/carlosfab/curso_data_science_na_pratica/master/modulo_03/Large45.jpg\" align=\"right\" hspace=\"20px\" vspace=\"0px\"></p>\n",
        "\n",
        "* O arquivo `csv` com os dados de 303 pessoas e 14 atributos pode ser baixado [neste link](https://raw.githubusercontent.com/carlosfab/curso_data_science_na_pratica/master/modulo_03/heart-disease-uci.csv).\n",
        "\n",
        "* O arquivo contendo todos os detalhes e documentação do *dataset* usado neste projeto se encontra [neste link](https://github.com/carlosfab/curso_data_science_na_pratica/blob/master/modulo_03/heart-disease.names).\n",
        "\n",
        "* Há ainda um *dataset* secundário que será utilizado para ver a evolução no número de mortes por doenças cardiovasculares no Brasil (entre os anos de 2004-2017). Esses dados foram disponibilizados pela [Sociedade Brasileira de Cardiologia](http://www.cardiometro.com.br/anteriores.asp), e podem ser baixados [neste link](https://raw.githubusercontent.com/carlosfab/curso_data_science_na_pratica/master/modulo_03/mortes_doencas_cardiovasculares.csv).\n",
        "\n"
      ]
    },
    {
      "cell_type": "markdown",
      "metadata": {
        "id": "JTJNji8-CFbX"
      },
      "source": [
        "### Informações sobre os atributos:\n",
        "\n",
        "\n",
        "* `age` - idade em anos\n",
        "* `sex` - sexo do paciente\n",
        "  * 0: mulher\n",
        "  * 1: homem\n",
        "* `cp` - tipo da dor torácica\n",
        "  * 1: angina típica\n",
        "  * 2: angina atípica\n",
        "  * 3: dor não cardíaca\n",
        "  * 4: assintomática\n",
        "* `trestbps` - pressão arterial em repouso\n",
        "* `chol` - colesterol sérico (*mg/dl*)\n",
        "* `fbs` - açucar no sangue em jejum > 120*mg/dl*\n",
        "  * 0: `False`\n",
        "  * 1: `True`\n",
        "* `restecg` - resultado do eletrocardiografia de repouso\n",
        "  * 0: normal\n",
        "  * 1: anormalidades de ST-T  (inversão da onda T e elevação ou depressão de > 0.05*mV*)\n",
        "  * 2: hipertrofia ventricular esquerda provável ou definitiva (pelos critérios de Romhilt-Estes)\n",
        "* `thalach` - frequência cardíaca máxima atingida\n",
        "* `exang` - angina induzida pelo exercício\n",
        "  * 0: não\n",
        "  * 1: sim\n",
        "* `oldpeak` - depessão do segmento ST induzida pelo exercício em relação ao repouso\n",
        "* `slope` - inclinação do segmento ST no pico do exercício\n",
        "* `ca` - número de vasos principais colorido por fluoroscopia\n",
        "* `thal` - *thallium stress test*\n",
        "  * 3: normal\n",
        "  * 6: defeito fixo\n",
        "  * 7: defeito reversível\n",
        "* `num` - diagnóstico de doença cardíaca (diagnóstico angiográfico)\n",
        "  * 0: não há doença cardíaca ( < 50% de estreitamento do diâmetro)\n",
        "  * 1,2,3,4: há doença cardíaca ( > 50% de estreitamento do diâmetro)"
      ]
    },
    {
      "cell_type": "markdown",
      "metadata": {
        "id": "TjJW1eAGoH7Y"
      },
      "source": [
        "### Importar os Dados\n",
        "\n",
        "Em uma etapa inicial, importaremos os dois *datasets* mencionados no início do *notebook*:\n",
        "\n",
        "* Um contendo os dados relacionados às doenças cardiovasculares (303 pessoas e 14 atributos); e\n",
        "* Um contendo os dados da mortalidade no Brasil por doenças cardiovasculares."
      ]
    },
    {
      "cell_type": "code",
      "metadata": {
        "id": "lr_gI2RzC8EW",
        "cellView": "both"
      },
      "source": [
        "# importar as bibliotecas necessárias\n",
        "import pandas as pd\n",
        "import matplotlib.pyplot as plt\n",
        "import numpy as np\n",
        "import seaborn as sns\n",
        "sns.set()\n",
        "\n",
        "# url dos datasets\n",
        "dataset_uci = \"https://raw.githubusercontent.com/carlosfab/curso_data_science_na_pratica/master/modulo_03/heart-disease-uci.csv\"\n",
        "dataset_brasil = \"https://raw.githubusercontent.com/carlosfab/curso_data_science_na_pratica/master/modulo_03/mortes_doencas_cardiovasculares.csv\"\n",
        "\n",
        "# importar dataset da UCI\n",
        "df = pd.read_csv(dataset_uci)\n",
        "\n",
        "# importar dataset dos indíces do Brasil\n",
        "df_brasil = pd.read_csv(dataset_brasil)"
      ],
      "execution_count": null,
      "outputs": []
    },
    {
      "cell_type": "markdown",
      "metadata": {
        "id": "xGfqlRc3DqzD"
      },
      "source": [
        "Olhando acima as informações sobre os atributos, percebemos que nossa variável alvo (`num`) possui cinco valores possíveis: \\[0, 1, 2, 3, 4\\].\n",
        "\n",
        "No entanto, seguindo a maioria das pesquisas que utilizaram esse *dataset*, iremos considerar apenas duas situações possíveis:\n",
        "\n",
        "* **0** - não há doença cardíaca\n",
        "* **1** - há doença cardíaca\n",
        "\n",
        "Então, iremos igualar a 1 os valores compreendidos entre 1-4."
      ]
    },
    {
      "cell_type": "code",
      "metadata": {
        "id": "nR53KX9ZvP-o",
        "colab": {
          "base_uri": "https://localhost:8080/",
          "height": 119
        },
        "outputId": "8021a0ba-8efe-41fa-a4f7-89e264be52e6"
      },
      "source": [
        "# variável alvo antes\n",
        "df.num.value_counts()"
      ],
      "execution_count": null,
      "outputs": [
        {
          "output_type": "execute_result",
          "data": {
            "text/plain": [
              "0    164\n",
              "1     55\n",
              "2     36\n",
              "3     35\n",
              "4     13\n",
              "Name: num, dtype: int64"
            ]
          },
          "metadata": {
            "tags": []
          },
          "execution_count": 37
        }
      ]
    },
    {
      "cell_type": "code",
      "metadata": {
        "id": "aI-Yx7cFu2tL"
      },
      "source": [
        "# converter valores >= 1 em 1\n",
        "df.loc[df.num != 0, 'num'] = 1"
      ],
      "execution_count": null,
      "outputs": []
    },
    {
      "cell_type": "code",
      "metadata": {
        "id": "JdnbfJH_DwY5",
        "colab": {
          "base_uri": "https://localhost:8080/",
          "height": 68
        },
        "outputId": "954f409e-9629-4b9c-c87a-cfafbef91de8"
      },
      "source": [
        "# variável alvo depois\n",
        "df.num.value_counts()"
      ],
      "execution_count": null,
      "outputs": [
        {
          "output_type": "execute_result",
          "data": {
            "text/plain": [
              "0    164\n",
              "1    139\n",
              "Name: num, dtype: int64"
            ]
          },
          "metadata": {
            "tags": []
          },
          "execution_count": 39
        }
      ]
    },
    {
      "cell_type": "markdown",
      "metadata": {
        "id": "KWtcuPrdHpEx"
      },
      "source": [
        "## Análise Exploratória\n",
        "A análise esxploratória nos possibilita obter de forma simples um conhecimento prévio do estado do nosso *Dataset* e o que ele pode nos oferecer de interessante, a seguir veremos a estrutura de uma análise exploratória focada em gráficos, os quais podem nos apresentar de forma maus clara o sentido da análise que os valores numéricos."
      ]
    },
    {
      "cell_type": "markdown",
      "metadata": {
        "id": "CyfIBZjWI_Da"
      },
      "source": [
        "### Tamanho do *DataFrame*\n",
        "Pode-se dizer que a primeira análise que é importante de se realizar quando se está em frente a um *DataFrame* é ter ideia de suas dimenções (quantidade de linhas e colunas), isso nos dá uma ideia de como devemos trata-lo e se um possível algorítmo de Machine Learning possuirá dados suficientes para predizer casos com uma boa acurácia.\n",
        "\n",
        "\n",
        "> Como verificado abaixo nosso *DataFrame* possui:\n",
        "\n",
        "\n",
        "*   303 linhas;\n",
        "*   14 colunas.\n",
        "\n",
        "\n",
        "\n"
      ]
    },
    {
      "cell_type": "code",
      "metadata": {
        "id": "Z6IdMeJ-KUUR",
        "colab": {
          "base_uri": "https://localhost:8080/",
          "height": 34
        },
        "outputId": "094c54ed-0655-4345-b7b4-ea9cdfcdc660"
      },
      "source": [
        "df.shape"
      ],
      "execution_count": null,
      "outputs": [
        {
          "output_type": "execute_result",
          "data": {
            "text/plain": [
              "(303, 14)"
            ]
          },
          "metadata": {
            "tags": []
          },
          "execution_count": 40
        }
      ]
    },
    {
      "cell_type": "markdown",
      "metadata": {
        "id": "gMAAT0UwKyMb"
      },
      "source": [
        "### Descrição Estatística\n",
        "Outro artifício importante para se obter uma visão generalizada do *DataFrame* é utilizar uma descrição estatística do mesmo. Esta análise nos permite ter informações como valores máximos e mínimos, quartis, média, mediana e desvio padrão de cada coluna."
      ]
    },
    {
      "cell_type": "code",
      "metadata": {
        "id": "GNly_6htLPrj",
        "colab": {
          "base_uri": "https://localhost:8080/",
          "height": 317
        },
        "outputId": "9961bf47-9614-4f20-f946-812527452145"
      },
      "source": [
        "df.describe()"
      ],
      "execution_count": null,
      "outputs": [
        {
          "output_type": "execute_result",
          "data": {
            "text/html": [
              "<div>\n",
              "<style scoped>\n",
              "    .dataframe tbody tr th:only-of-type {\n",
              "        vertical-align: middle;\n",
              "    }\n",
              "\n",
              "    .dataframe tbody tr th {\n",
              "        vertical-align: top;\n",
              "    }\n",
              "\n",
              "    .dataframe thead th {\n",
              "        text-align: right;\n",
              "    }\n",
              "</style>\n",
              "<table border=\"1\" class=\"dataframe\">\n",
              "  <thead>\n",
              "    <tr style=\"text-align: right;\">\n",
              "      <th></th>\n",
              "      <th>age</th>\n",
              "      <th>sex</th>\n",
              "      <th>cp</th>\n",
              "      <th>trestbps</th>\n",
              "      <th>chol</th>\n",
              "      <th>fbs</th>\n",
              "      <th>restecg</th>\n",
              "      <th>thalach</th>\n",
              "      <th>exang</th>\n",
              "      <th>oldpeak</th>\n",
              "      <th>slope</th>\n",
              "      <th>ca</th>\n",
              "      <th>thal</th>\n",
              "      <th>num</th>\n",
              "    </tr>\n",
              "  </thead>\n",
              "  <tbody>\n",
              "    <tr>\n",
              "      <th>count</th>\n",
              "      <td>303.000000</td>\n",
              "      <td>303.000000</td>\n",
              "      <td>303.000000</td>\n",
              "      <td>303.000000</td>\n",
              "      <td>303.000000</td>\n",
              "      <td>303.000000</td>\n",
              "      <td>303.000000</td>\n",
              "      <td>303.000000</td>\n",
              "      <td>303.000000</td>\n",
              "      <td>303.000000</td>\n",
              "      <td>303.000000</td>\n",
              "      <td>303.000000</td>\n",
              "      <td>303.000000</td>\n",
              "      <td>303.000000</td>\n",
              "    </tr>\n",
              "    <tr>\n",
              "      <th>mean</th>\n",
              "      <td>54.438944</td>\n",
              "      <td>0.679868</td>\n",
              "      <td>3.158416</td>\n",
              "      <td>131.689769</td>\n",
              "      <td>246.693069</td>\n",
              "      <td>0.148515</td>\n",
              "      <td>0.990099</td>\n",
              "      <td>149.607261</td>\n",
              "      <td>0.326733</td>\n",
              "      <td>1.039604</td>\n",
              "      <td>1.600660</td>\n",
              "      <td>0.663366</td>\n",
              "      <td>4.722772</td>\n",
              "      <td>0.458746</td>\n",
              "    </tr>\n",
              "    <tr>\n",
              "      <th>std</th>\n",
              "      <td>9.038662</td>\n",
              "      <td>0.467299</td>\n",
              "      <td>0.960126</td>\n",
              "      <td>17.599748</td>\n",
              "      <td>51.776918</td>\n",
              "      <td>0.356198</td>\n",
              "      <td>0.994971</td>\n",
              "      <td>22.875003</td>\n",
              "      <td>0.469794</td>\n",
              "      <td>1.161075</td>\n",
              "      <td>0.616226</td>\n",
              "      <td>0.934375</td>\n",
              "      <td>1.938383</td>\n",
              "      <td>0.499120</td>\n",
              "    </tr>\n",
              "    <tr>\n",
              "      <th>min</th>\n",
              "      <td>29.000000</td>\n",
              "      <td>0.000000</td>\n",
              "      <td>1.000000</td>\n",
              "      <td>94.000000</td>\n",
              "      <td>126.000000</td>\n",
              "      <td>0.000000</td>\n",
              "      <td>0.000000</td>\n",
              "      <td>71.000000</td>\n",
              "      <td>0.000000</td>\n",
              "      <td>0.000000</td>\n",
              "      <td>1.000000</td>\n",
              "      <td>0.000000</td>\n",
              "      <td>3.000000</td>\n",
              "      <td>0.000000</td>\n",
              "    </tr>\n",
              "    <tr>\n",
              "      <th>25%</th>\n",
              "      <td>48.000000</td>\n",
              "      <td>0.000000</td>\n",
              "      <td>3.000000</td>\n",
              "      <td>120.000000</td>\n",
              "      <td>211.000000</td>\n",
              "      <td>0.000000</td>\n",
              "      <td>0.000000</td>\n",
              "      <td>133.500000</td>\n",
              "      <td>0.000000</td>\n",
              "      <td>0.000000</td>\n",
              "      <td>1.000000</td>\n",
              "      <td>0.000000</td>\n",
              "      <td>3.000000</td>\n",
              "      <td>0.000000</td>\n",
              "    </tr>\n",
              "    <tr>\n",
              "      <th>50%</th>\n",
              "      <td>56.000000</td>\n",
              "      <td>1.000000</td>\n",
              "      <td>3.000000</td>\n",
              "      <td>130.000000</td>\n",
              "      <td>241.000000</td>\n",
              "      <td>0.000000</td>\n",
              "      <td>1.000000</td>\n",
              "      <td>153.000000</td>\n",
              "      <td>0.000000</td>\n",
              "      <td>0.800000</td>\n",
              "      <td>2.000000</td>\n",
              "      <td>0.000000</td>\n",
              "      <td>3.000000</td>\n",
              "      <td>0.000000</td>\n",
              "    </tr>\n",
              "    <tr>\n",
              "      <th>75%</th>\n",
              "      <td>61.000000</td>\n",
              "      <td>1.000000</td>\n",
              "      <td>4.000000</td>\n",
              "      <td>140.000000</td>\n",
              "      <td>275.000000</td>\n",
              "      <td>0.000000</td>\n",
              "      <td>2.000000</td>\n",
              "      <td>166.000000</td>\n",
              "      <td>1.000000</td>\n",
              "      <td>1.600000</td>\n",
              "      <td>2.000000</td>\n",
              "      <td>1.000000</td>\n",
              "      <td>7.000000</td>\n",
              "      <td>1.000000</td>\n",
              "    </tr>\n",
              "    <tr>\n",
              "      <th>max</th>\n",
              "      <td>77.000000</td>\n",
              "      <td>1.000000</td>\n",
              "      <td>4.000000</td>\n",
              "      <td>200.000000</td>\n",
              "      <td>564.000000</td>\n",
              "      <td>1.000000</td>\n",
              "      <td>2.000000</td>\n",
              "      <td>202.000000</td>\n",
              "      <td>1.000000</td>\n",
              "      <td>6.200000</td>\n",
              "      <td>3.000000</td>\n",
              "      <td>3.000000</td>\n",
              "      <td>7.000000</td>\n",
              "      <td>1.000000</td>\n",
              "    </tr>\n",
              "  </tbody>\n",
              "</table>\n",
              "</div>"
            ],
            "text/plain": [
              "              age         sex          cp  ...          ca        thal         num\n",
              "count  303.000000  303.000000  303.000000  ...  303.000000  303.000000  303.000000\n",
              "mean    54.438944    0.679868    3.158416  ...    0.663366    4.722772    0.458746\n",
              "std      9.038662    0.467299    0.960126  ...    0.934375    1.938383    0.499120\n",
              "min     29.000000    0.000000    1.000000  ...    0.000000    3.000000    0.000000\n",
              "25%     48.000000    0.000000    3.000000  ...    0.000000    3.000000    0.000000\n",
              "50%     56.000000    1.000000    3.000000  ...    0.000000    3.000000    0.000000\n",
              "75%     61.000000    1.000000    4.000000  ...    1.000000    7.000000    1.000000\n",
              "max     77.000000    1.000000    4.000000  ...    3.000000    7.000000    1.000000\n",
              "\n",
              "[8 rows x 14 columns]"
            ]
          },
          "metadata": {
            "tags": []
          },
          "execution_count": 41
        }
      ]
    },
    {
      "cell_type": "markdown",
      "metadata": {
        "id": "NTGQhfTRNhBS"
      },
      "source": [
        "###Tipos das variáveis\n",
        "É importante saber o tipo de cada variável para se ter noção se os valores são numéricos ou não e quais artifíceios matemáticos podem ser utilizados em cada coluna. "
      ]
    },
    {
      "cell_type": "code",
      "metadata": {
        "id": "HvESS9tSNTE-",
        "colab": {
          "base_uri": "https://localhost:8080/",
          "height": 272
        },
        "outputId": "fa920c04-4477-4b2e-cc62-5721c220b8b4"
      },
      "source": [
        "df.dtypes"
      ],
      "execution_count": null,
      "outputs": [
        {
          "output_type": "execute_result",
          "data": {
            "text/plain": [
              "age         float64\n",
              "sex         float64\n",
              "cp          float64\n",
              "trestbps    float64\n",
              "chol        float64\n",
              "fbs         float64\n",
              "restecg     float64\n",
              "thalach     float64\n",
              "exang       float64\n",
              "oldpeak     float64\n",
              "slope       float64\n",
              "ca          float64\n",
              "thal        float64\n",
              "num           int64\n",
              "dtype: object"
            ]
          },
          "metadata": {
            "tags": []
          },
          "execution_count": 42
        }
      ]
    },
    {
      "cell_type": "markdown",
      "metadata": {
        "id": "lB0s15FcOPgA"
      },
      "source": [
        "###Visualizando estrutura do *DataFrame*\n",
        "Além das análises já realizadas podemos também ter grandes observações sobre um *DataFrame* apenas por olhar como este foi construído, a seguir serão apresentadas as primeiras 5 linhas."
      ]
    },
    {
      "cell_type": "code",
      "metadata": {
        "id": "p3WJecjQPeLO",
        "colab": {
          "base_uri": "https://localhost:8080/",
          "height": 204
        },
        "outputId": "b012b9f5-7434-4d0f-ebfc-82aba6403b9b"
      },
      "source": [
        "df.head()"
      ],
      "execution_count": null,
      "outputs": [
        {
          "output_type": "execute_result",
          "data": {
            "text/html": [
              "<div>\n",
              "<style scoped>\n",
              "    .dataframe tbody tr th:only-of-type {\n",
              "        vertical-align: middle;\n",
              "    }\n",
              "\n",
              "    .dataframe tbody tr th {\n",
              "        vertical-align: top;\n",
              "    }\n",
              "\n",
              "    .dataframe thead th {\n",
              "        text-align: right;\n",
              "    }\n",
              "</style>\n",
              "<table border=\"1\" class=\"dataframe\">\n",
              "  <thead>\n",
              "    <tr style=\"text-align: right;\">\n",
              "      <th></th>\n",
              "      <th>age</th>\n",
              "      <th>sex</th>\n",
              "      <th>cp</th>\n",
              "      <th>trestbps</th>\n",
              "      <th>chol</th>\n",
              "      <th>fbs</th>\n",
              "      <th>restecg</th>\n",
              "      <th>thalach</th>\n",
              "      <th>exang</th>\n",
              "      <th>oldpeak</th>\n",
              "      <th>slope</th>\n",
              "      <th>ca</th>\n",
              "      <th>thal</th>\n",
              "      <th>num</th>\n",
              "    </tr>\n",
              "  </thead>\n",
              "  <tbody>\n",
              "    <tr>\n",
              "      <th>0</th>\n",
              "      <td>63.0</td>\n",
              "      <td>1.0</td>\n",
              "      <td>1.0</td>\n",
              "      <td>145.0</td>\n",
              "      <td>233.0</td>\n",
              "      <td>1.0</td>\n",
              "      <td>2.0</td>\n",
              "      <td>150.0</td>\n",
              "      <td>0.0</td>\n",
              "      <td>2.3</td>\n",
              "      <td>3.0</td>\n",
              "      <td>0.0</td>\n",
              "      <td>6.0</td>\n",
              "      <td>0</td>\n",
              "    </tr>\n",
              "    <tr>\n",
              "      <th>1</th>\n",
              "      <td>67.0</td>\n",
              "      <td>1.0</td>\n",
              "      <td>4.0</td>\n",
              "      <td>160.0</td>\n",
              "      <td>286.0</td>\n",
              "      <td>0.0</td>\n",
              "      <td>2.0</td>\n",
              "      <td>108.0</td>\n",
              "      <td>1.0</td>\n",
              "      <td>1.5</td>\n",
              "      <td>2.0</td>\n",
              "      <td>3.0</td>\n",
              "      <td>3.0</td>\n",
              "      <td>1</td>\n",
              "    </tr>\n",
              "    <tr>\n",
              "      <th>2</th>\n",
              "      <td>67.0</td>\n",
              "      <td>1.0</td>\n",
              "      <td>4.0</td>\n",
              "      <td>120.0</td>\n",
              "      <td>229.0</td>\n",
              "      <td>0.0</td>\n",
              "      <td>2.0</td>\n",
              "      <td>129.0</td>\n",
              "      <td>1.0</td>\n",
              "      <td>2.6</td>\n",
              "      <td>2.0</td>\n",
              "      <td>2.0</td>\n",
              "      <td>7.0</td>\n",
              "      <td>1</td>\n",
              "    </tr>\n",
              "    <tr>\n",
              "      <th>3</th>\n",
              "      <td>37.0</td>\n",
              "      <td>1.0</td>\n",
              "      <td>3.0</td>\n",
              "      <td>130.0</td>\n",
              "      <td>250.0</td>\n",
              "      <td>0.0</td>\n",
              "      <td>0.0</td>\n",
              "      <td>187.0</td>\n",
              "      <td>0.0</td>\n",
              "      <td>3.5</td>\n",
              "      <td>3.0</td>\n",
              "      <td>0.0</td>\n",
              "      <td>3.0</td>\n",
              "      <td>0</td>\n",
              "    </tr>\n",
              "    <tr>\n",
              "      <th>4</th>\n",
              "      <td>41.0</td>\n",
              "      <td>0.0</td>\n",
              "      <td>2.0</td>\n",
              "      <td>130.0</td>\n",
              "      <td>204.0</td>\n",
              "      <td>0.0</td>\n",
              "      <td>2.0</td>\n",
              "      <td>172.0</td>\n",
              "      <td>0.0</td>\n",
              "      <td>1.4</td>\n",
              "      <td>1.0</td>\n",
              "      <td>0.0</td>\n",
              "      <td>3.0</td>\n",
              "      <td>0</td>\n",
              "    </tr>\n",
              "  </tbody>\n",
              "</table>\n",
              "</div>"
            ],
            "text/plain": [
              "    age  sex   cp  trestbps   chol  fbs  ...  exang  oldpeak  slope   ca  thal  num\n",
              "0  63.0  1.0  1.0     145.0  233.0  1.0  ...    0.0      2.3    3.0  0.0   6.0    0\n",
              "1  67.0  1.0  4.0     160.0  286.0  0.0  ...    1.0      1.5    2.0  3.0   3.0    1\n",
              "2  67.0  1.0  4.0     120.0  229.0  0.0  ...    1.0      2.6    2.0  2.0   7.0    1\n",
              "3  37.0  1.0  3.0     130.0  250.0  0.0  ...    0.0      3.5    3.0  0.0   3.0    0\n",
              "4  41.0  0.0  2.0     130.0  204.0  0.0  ...    0.0      1.4    1.0  0.0   3.0    0\n",
              "\n",
              "[5 rows x 14 columns]"
            ]
          },
          "metadata": {
            "tags": []
          },
          "execution_count": 43
        }
      ]
    },
    {
      "cell_type": "markdown",
      "metadata": {
        "id": "Zo0dA_q1VAmn"
      },
      "source": [
        "### Valores ausentes\n",
        "Muitas vezes os *Datasets* acabam não sendo construídos de forma completa e podem apresentar dados faltantes o que pode ser um problema grande para nossas análises pois implicam em lacunas nos nossos dados, a seguir analizamos o quantitativo de dados faltantes em nosso **DF**.\n",
        "\n",
        "\n",
        "> Como observado nosso **DF** possui uma ótima qualidade e não tem dados ausentes em nenhuma coluna.\n",
        "\n"
      ]
    },
    {
      "cell_type": "code",
      "metadata": {
        "id": "VHO7RxvqWcI7",
        "colab": {
          "base_uri": "https://localhost:8080/",
          "height": 272
        },
        "outputId": "536eb59f-c02c-4fe9-a3bb-01ce2280eb39"
      },
      "source": [
        "df.isnull().sum()"
      ],
      "execution_count": null,
      "outputs": [
        {
          "output_type": "execute_result",
          "data": {
            "text/plain": [
              "age         0\n",
              "sex         0\n",
              "cp          0\n",
              "trestbps    0\n",
              "chol        0\n",
              "fbs         0\n",
              "restecg     0\n",
              "thalach     0\n",
              "exang       0\n",
              "oldpeak     0\n",
              "slope       0\n",
              "ca          0\n",
              "thal        0\n",
              "num         0\n",
              "dtype: int64"
            ]
          },
          "metadata": {
            "tags": []
          },
          "execution_count": 44
        }
      ]
    },
    {
      "cell_type": "markdown",
      "metadata": {
        "id": "0Z4SU62tRJFS"
      },
      "source": [
        "### Doenças Cardiácas\n",
        "Neste tópico iremos analizar as porcentagens de pessoas que possuem e das que não possuem doença cardíaca registrada no DataFrame"
      ]
    },
    {
      "cell_type": "code",
      "metadata": {
        "id": "WBT5yKc-TYHA",
        "colab": {
          "base_uri": "https://localhost:8080/",
          "height": 68
        },
        "outputId": "34b3d15d-6479-4fa2-d5b7-ecba7151a85c"
      },
      "source": [
        "pct = df.num.value_counts()/df.shape[0]\n",
        "print(f'Porcentagem das pessoa com doença cardíaca ou não:\\nPossui:\\t\\t{round(pct[1]*100,2)}%\\nNão possui:\\t{round(pct[0]*100, 2)}%')"
      ],
      "execution_count": null,
      "outputs": [
        {
          "output_type": "stream",
          "text": [
            "Porcentagem das pessoa com doença cardíaca ou não:\n",
            "Possui:\t\t45.87%\n",
            "Não possui:\t54.13%\n"
          ],
          "name": "stdout"
        }
      ]
    },
    {
      "cell_type": "markdown",
      "metadata": {
        "id": "Qs9AK1WsW2oK"
      },
      "source": [
        "### Sexo dos pacientes\n",
        "A seguir temos uma análise visual da relação do sexo dos pacientes analisados nessa pesquisa."
      ]
    },
    {
      "cell_type": "code",
      "metadata": {
        "id": "fFi6cBBayKhr",
        "colab": {
          "base_uri": "https://localhost:8080/",
          "height": 365
        },
        "outputId": "e4a55195-267b-4608-864e-0535d97ecec2"
      },
      "source": [
        "fig, ax = plt.subplots()\n",
        "\n",
        "df_sex = df.copy()\n",
        "df_sex.sex = df.sex.apply(lambda x:'Feminino' if x == 0 else 'Masculino')\n",
        "df_sex.sex.value_counts().plot(kind='bar', ax=ax);\n",
        "\n",
        "ax.set_title('Número de Homens e Mulheres', fontsize=16)\n",
        "ax.set_xlabel('Sexo')\n",
        "ax.set_ylabel('Quantidade')\n"
      ],
      "execution_count": null,
      "outputs": [
        {
          "output_type": "execute_result",
          "data": {
            "text/plain": [
              "Text(0, 0.5, 'Quantidade')"
            ]
          },
          "metadata": {
            "tags": []
          },
          "execution_count": 91
        },
        {
          "output_type": "display_data",
          "data": {
            "image/png": "[encoded data removed]",
            "text/plain": [
              "<Figure size 432x288 with 1 Axes>"
            ]
          },
          "metadata": {
            "tags": []
          }
        }
      ]
    },
    {
      "cell_type": "markdown",
      "metadata": {
        "id": "Cq293fkL8Gj7"
      },
      "source": [
        "### Relação Colesterol - Idade\n",
        "Como analisado no gráfico de disperção plotado, existe uma relação linear entre o avanço da idade e os níveis de colesterol, pela pouca inclinação da reta e a dispersão dos valores, notamos que a relação não é muito expressiva apesar de existir."
      ]
    },
    {
      "cell_type": "code",
      "metadata": {
        "id": "enSF8Dy0DS77",
        "colab": {
          "base_uri": "https://localhost:8080/",
          "height": 357
        },
        "outputId": "8903dbdc-dcd5-4ebe-d6f5-f73653e55bdb"
      },
      "source": [
        "fig, ax = plt.subplots(figsize=(10,5))\n",
        "# df.plot.scatter(x='age', y='chol', s=10, ax=ax);\n",
        "reg = sns.regplot(x='age', y='chol', data=df,  ax=ax);\n",
        "\n",
        "ax.set_xlabel('Idade');\n",
        "ax.set_ylabel('Colesterol');\n",
        "ax.set_title('Colesterol x Idade', fontsize=16);"
      ],
      "execution_count": null,
      "outputs": [
        {
          "output_type": "display_data",
          "data": {
            "image/png": "[encoded data removed]",
            "text/plain": [
              "<Figure size 720x360 with 1 Axes>"
            ]
          },
          "metadata": {
            "tags": []
          }
        }
      ]
    },
    {
      "cell_type": "markdown",
      "metadata": {
        "id": "dgmsocmkqxJs"
      },
      "source": [
        "---\n",
        "\n",
        "> Caso seja de interesse se obter a equação da reta gerada pela regressão linear, podemos utilizar o seguinte código:\n",
        "\n",
        "---\n",
        "\n",
        "\n"
      ]
    },
    {
      "cell_type": "code",
      "metadata": {
        "id": "iLWZT4ytrET7",
        "colab": {
          "base_uri": "https://localhost:8080/",
          "height": 68
        },
        "outputId": "c3e6cb3d-ef79-407f-8115-440f151ba31e"
      },
      "source": [
        "x_data = reg.get_lines()[0].get_xdata()\n",
        "y_data = reg.get_lines()[0].get_ydata()\n",
        "\n",
        "curve = np.polyfit(x=x_data, y=y_data, deg=1)\n",
        "\n",
        "print('A curva gerada através da regressão é dada por:\\n')\n",
        "reta = f'{round(curve[0], 4)} X + {round(curve[1], 4)}'\n",
        "print(f'{reta:^47}')"
      ],
      "execution_count": null,
      "outputs": [
        {
          "output_type": "stream",
          "text": [
            "A curva gerada através da regressão é dada por:\n",
            "\n",
            "              1.1969 X + 181.5325              \n"
          ],
          "name": "stdout"
        }
      ]
    },
    {
      "cell_type": "markdown",
      "metadata": {
        "id": "-1LOfuEggHnR"
      },
      "source": [
        "###Colesterol Sérico\n",
        "O histograma nos proporciona uma visualização rápida de como os dados estão arranjados e em que proporção eles estão arranjados.\n",
        "Como é notável entre 213,6 [mg/dl] e 257,4 [mg/dl] é onde está mais concentrado os individuos, contendo aproximadamente 100 pacientes apresentando essa quantidade de colesterol no sangue."
      ]
    },
    {
      "cell_type": "code",
      "metadata": {
        "id": "I4Sqs6NbgOB5",
        "colab": {
          "base_uri": "https://localhost:8080/",
          "height": 293
        },
        "outputId": "4d0671c6-5bfe-472b-ac88-d31b533ce1e6"
      },
      "source": [
        "fig, ax = plt.subplots(figsize=(8,4))\n",
        "\n",
        "count, bin_edges = np.histogram(df[\"chol\"])\n",
        "\n",
        "df.chol.plot(kind='hist', ax=ax, density=False, bins=len(bin_edges), xticks=bin_edges);\n",
        "ax.set_xlabel('colesterol sérico (mg/dl)')\n",
        "ax.set_ylabel('Frequência')\n",
        "ax.set_title('Histograma - Colesterol Sérico', fontsize=16)\n",
        "\n",
        "plt.tight_layout()"
      ],
      "execution_count": null,
      "outputs": [
        {
          "output_type": "display_data",
          "data": {
            "image/png": "[encoded data removed]",
            "text/plain": [
              "<Figure size 576x288 with 1 Axes>"
            ]
          },
          "metadata": {
            "tags": []
          }
        }
      ]
    },
    {
      "cell_type": "markdown",
      "metadata": {
        "id": "V7KYKOhehc4W"
      },
      "source": [
        "###  Resultado do eletrocardiografia de repouso\n",
        "O gráfico de pizza a seguir nos apresenta as frações correspondentes a cada ocorrencia citada abaixo:\n",
        "\n",
        "\n",
        "  *   0: normal\n",
        "  *1: anormalidades de ST-T (inversão da onda T e elevação ou depressão de > 0.05mV)\n",
        "  *2: hipertrofia ventricular esquerda provável ou definitiva (pelos critérios de Romhilt-Estes)\n",
        "\n",
        "\n"
      ]
    },
    {
      "cell_type": "code",
      "metadata": {
        "id": "m3TqIQZphbyC",
        "colab": {
          "base_uri": "https://localhost:8080/",
          "height": 335
        },
        "outputId": "75a5e142-aae6-4c30-86b8-fc6b306cc3d9"
      },
      "source": [
        "count = dict(df.restecg.value_counts())\n",
        "labels = ['Normal', 'Anormalidades de ST-T', 'Hipertrofia ventricular e.'] #count.keys()\n",
        "values = count.values()\n",
        "explode = (.1,0,0)\n",
        "\n",
        "fig, ax = plt.subplots(figsize=(6,6))\n",
        "ax.pie(values, labels=labels, explode=explode, shadow=True);\n",
        "ax.set_title('Resultado da eletrocardiografia de repouso', fontsize=16)\n",
        "plt.tight_layout()"
      ],
      "execution_count": null,
      "outputs": [
        {
          "output_type": "display_data",
          "data": {
            "image/png": "[encoded data removed]",
            "text/plain": [
              "<Figure size 432x432 with 1 Axes>"
            ]
          },
          "metadata": {
            "tags": []
          }
        }
      ]
    },
    {
      "cell_type": "markdown",
      "metadata": {
        "id": "9jKG3iLNk7Am"
      },
      "source": [
        "###Correlações\n",
        "Abaixo será apresentado um *HeatMap* expondo as correlações existentes entre todas as colunas do *DataFrame*, onde as tonalidades mais claras apontam uma maior correlação entre os dados. "
      ]
    },
    {
      "cell_type": "code",
      "metadata": {
        "id": "mJxXhCXyk_pl",
        "colab": {
          "base_uri": "https://localhost:8080/",
          "height": 556
        },
        "outputId": "8ec52547-7779-4acb-e1cc-848dc47c597a"
      },
      "source": [
        "fig, ax = plt.subplots(figsize=(10,8))\n",
        "\n",
        "sns.heatmap(data=df.corr(), ax=ax);\n",
        "\n",
        "ax.set_title('Correlações', fontsize=16)"
      ],
      "execution_count": null,
      "outputs": [
        {
          "output_type": "execute_result",
          "data": {
            "text/plain": [
              "Text(0.5, 1, 'Correlações')"
            ]
          },
          "metadata": {
            "tags": []
          },
          "execution_count": 86
        },
        {
          "output_type": "display_data",
          "data": {
            "image/png": "[encoded data removed]",
            "text/plain": [
              "<Figure size 720x576 with 2 Axes>"
            ]
          },
          "metadata": {
            "tags": []
          }
        }
      ]
    },
    {
      "cell_type": "markdown",
      "metadata": {
        "id": "3msahHEwKT4Q"
      },
      "source": [
        "###Tipo da dor torácica\n",
        "Podemos utilizar também um gráfico de *Waffle*, este mostra a proporção dos valores, utilizaremos a coluna de tipo de dor torácica para avaliar qual é a relação de frequência dos tipos de dores acusadas pelos pacientes.\n",
        "\n",
        "*  1: angina típica\n",
        "*  2: angina atípica\n",
        "*  3: dor não cardíaca\n",
        "*  4: assintomática"
      ]
    },
    {
      "cell_type": "code",
      "metadata": {
        "id": "ewmYJA_9KVaa",
        "colab": {
          "base_uri": "https://localhost:8080/",
          "height": 34
        },
        "outputId": "e4c39229-74de-4445-eae3-857659f9a276"
      },
      "source": [
        "# Para se utilizar o gráfico de Waffle no Colab é necessário instalar a biblioteca \n",
        "# instalar o pywaffle\n",
        "!pip install pywaffle -q"
      ],
      "execution_count": null,
      "outputs": [
        {
          "output_type": "stream",
          "text": [
            "\u001b[?25l\r\u001b[K     |▋                               | 10kB 37.5MB/s eta 0:00:01\r\u001b[K     |█▎                              | 20kB 6.0MB/s eta 0:00:01\r\u001b[K     |█▉                              | 30kB 6.5MB/s eta 0:00:01\r\u001b[K     |██▌                             | 40kB 5.5MB/s eta 0:00:01\r\u001b[K     |███▏                            | 51kB 5.9MB/s eta 0:00:01\r\u001b[K     |███▊                            | 61kB 6.9MB/s eta 0:00:01\r\u001b[K     |████▍                           | 71kB 7.6MB/s eta 0:00:01\r\u001b[K     |█████                           | 81kB 6.9MB/s eta 0:00:01\r\u001b[K     |█████▋                          | 92kB 7.7MB/s eta 0:00:01\r\u001b[K     |██████▎                         | 102kB 7.7MB/s eta 0:00:01\r\u001b[K     |██████▉                         | 112kB 7.7MB/s eta 0:00:01\r\u001b[K     |███████▌                        | 122kB 7.7MB/s eta 0:00:01\r\u001b[K     |████████▏                       | 133kB 7.7MB/s eta 0:00:01\r\u001b[K     |████████▊                       | 143kB 7.7MB/s eta 0:00:01\r\u001b[K     |█████████▍                      | 153kB 7.7MB/s eta 0:00:01\r\u001b[K     |██████████                      | 163kB 7.7MB/s eta 0:00:01\r\u001b[K     |██████████▋                     | 174kB 7.7MB/s eta 0:00:01\r\u001b[K     |███████████▎                    | 184kB 7.7MB/s eta 0:00:01\r\u001b[K     |███████████▉                    | 194kB 7.7MB/s eta 0:00:01\r\u001b[K     |████████████▌                   | 204kB 7.7MB/s eta 0:00:01\r\u001b[K     |█████████████▏                  | 215kB 7.7MB/s eta 0:00:01\r\u001b[K     |█████████████▊                  | 225kB 7.7MB/s eta 0:00:01\r\u001b[K     |██████████████▍                 | 235kB 7.7MB/s eta 0:00:01\r\u001b[K     |███████████████                 | 245kB 7.7MB/s eta 0:00:01\r\u001b[K     |███████████████▋                | 256kB 7.7MB/s eta 0:00:01\r\u001b[K     |████████████████▎               | 266kB 7.7MB/s eta 0:00:01\r\u001b[K     |████████████████▉               | 276kB 7.7MB/s eta 0:00:01\r\u001b[K     |█████████████████▌              | 286kB 7.7MB/s eta 0:00:01\r\u001b[K     |██████████████████▏             | 296kB 7.7MB/s eta 0:00:01\r\u001b[K     |██████████████████▊             | 307kB 7.7MB/s eta 0:00:01\r\u001b[K     |███████████████████▍            | 317kB 7.7MB/s eta 0:00:01\r\u001b[K     |████████████████████            | 327kB 7.7MB/s eta 0:00:01\r\u001b[K     |████████████████████▋           | 337kB 7.7MB/s eta 0:00:01\r\u001b[K     |█████████████████████▎          | 348kB 7.7MB/s eta 0:00:01\r\u001b[K     |█████████████████████▉          | 358kB 7.7MB/s eta 0:00:01\r\u001b[K     |██████████████████████▌         | 368kB 7.7MB/s eta 0:00:01\r\u001b[K     |███████████████████████         | 378kB 7.7MB/s eta 0:00:01\r\u001b[K     |███████████████████████▊        | 389kB 7.7MB/s eta 0:00:01\r\u001b[K     |████████████████████████▍       | 399kB 7.7MB/s eta 0:00:01\r\u001b[K     |█████████████████████████       | 409kB 7.7MB/s eta 0:00:01\r\u001b[K     |█████████████████████████▋      | 419kB 7.7MB/s eta 0:00:01\r\u001b[K     |██████████████████████████▎     | 430kB 7.7MB/s eta 0:00:01\r\u001b[K     |██████████████████████████▉     | 440kB 7.7MB/s eta 0:00:01\r\u001b[K     |███████████████████████████▌    | 450kB 7.7MB/s eta 0:00:01\r\u001b[K     |████████████████████████████    | 460kB 7.7MB/s eta 0:00:01\r\u001b[K     |████████████████████████████▊   | 471kB 7.7MB/s eta 0:00:01\r\u001b[K     |█████████████████████████████▍  | 481kB 7.7MB/s eta 0:00:01\r\u001b[K     |██████████████████████████████  | 491kB 7.7MB/s eta 0:00:01\r\u001b[K     |██████████████████████████████▋ | 501kB 7.7MB/s eta 0:00:01\r\u001b[K     |███████████████████████████████▎| 512kB 7.7MB/s eta 0:00:01\r\u001b[K     |███████████████████████████████▉| 522kB 7.7MB/s eta 0:00:01\r\u001b[K     |████████████████████████████████| 532kB 7.7MB/s \n",
            "\u001b[?25h"
          ],
          "name": "stdout"
        }
      ]
    },
    {
      "cell_type": "code",
      "metadata": {
        "id": "u0W4qltVMgxh",
        "colab": {
          "base_uri": "https://localhost:8080/",
          "height": 189
        },
        "outputId": "4ae9d851-3a5a-4253-f52a-70ebc4ff5ec3"
      },
      "source": [
        "# importar as bibliotecas necessárias\n",
        "import matplotlib.pyplot as plt\n",
        "from pywaffle import Waffle\n",
        "\n",
        "# exemplo de Waffle\n",
        "fig = plt.figure(\n",
        "                FigureClass=Waffle,\n",
        "                figsize=(10, 5),\n",
        "                rows=5,\n",
        "                columns=20,\n",
        "                title={'label': 'Tipo da dor torácica', 'loc': 'center', 'fontsize':16},\n",
        "                labels=['4: assintomática', '3: dor não cardíaca', '2: angina atípica', '1: angina típica'],\n",
        "                values=dict(df.cp.value_counts()),\n",
        "                icons='heart', icon_size=27,\n",
        "                legend={'loc': 'upper left',\n",
        "                        'bbox_to_anchor': (1.008, 1)},\n",
        "                 \n",
        "                )\n",
        "\n",
        "fig.set_tight_layout(False)\n",
        "plt.show()"
      ],
      "execution_count": null,
      "outputs": [
        {
          "output_type": "display_data",
          "data": {
            "image/png": "[encoded data removed]",
            "text/plain": [
              "<Waffle size 720x360 with 1 Axes>"
            ]
          },
          "metadata": {
            "tags": []
          }
        }
      ]
    },
    {
      "cell_type": "markdown",
      "metadata": {
        "id": "N_vtJpwuWQUt"
      },
      "source": [
        "###Mortes por doenças cardiovasculares no Brasil\n",
        "Mortes por doenças cardiovasculares são recorrentes em todo mundo, mal hpábitos halimentares e a falta de exercícios físicos regulares, além de problemas ereditarios tem sido um grande problema na vida de muitos individuos.\n",
        "\n",
        "Através do *DataFrame* a seguir poderemos ter uma noção de como vem se comportando a quantidade de mortes ao decorrer dos anos.\n",
        " "
      ]
    },
    {
      "cell_type": "code",
      "metadata": {
        "id": "zKI5FfdmXIU1",
        "colab": {
          "base_uri": "https://localhost:8080/",
          "height": 320
        },
        "outputId": "09ab5a57-6b1f-402f-c4c8-79c94578e3eb"
      },
      "source": [
        "fig, ax = plt.subplots(figsize=(10,4))\n",
        "df_brasil.plot(x='ano',y='mortes_doencas_cardio',ax=ax);\n",
        "ax.set_title('Mortes por doenças cardiovasculares no Brasil', fontsize=16)\n",
        "ax.set_xlabel('Ano')\n",
        "ax.set_ylabel('Quantidade de mortes')"
      ],
      "execution_count": null,
      "outputs": [
        {
          "output_type": "execute_result",
          "data": {
            "text/plain": [
              "Text(0, 0.5, 'Quantidade de mortes')"
            ]
          },
          "metadata": {
            "tags": []
          },
          "execution_count": 84
        },
        {
          "output_type": "display_data",
          "data": {
            "image/png": "[encoded data removed]",
            "text/plain": [
              "<Figure size 720x288 with 1 Axes>"
            ]
          },
          "metadata": {
            "tags": []
          }
        }
      ]
    }
  ]
}