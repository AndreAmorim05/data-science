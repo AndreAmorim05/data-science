{
  "nbformat": 4,
  "nbformat_minor": 0,
  "metadata": {
    "colab": {
      "name": "Predição de Faturamento do Novo Filme 007",
      "provenance": [],
      "collapsed_sections": [],
      "toc_visible": true,
      "authorship_tag": "ABX9TyP7qdGGKHhvF+vMXzCpNfzK",
      "include_colab_link": true
    },
    "kernelspec": {
      "name": "python3",
      "display_name": "Python 3"
    },
    "language_info": {
      "name": "python"
    }
  },
  "cells": [
    {
      "cell_type": "markdown",
      "metadata": {
        "id": "view-in-github",
        "colab_type": "text"
      },
      "source": [
        "<a href=\"https://colab.research.google.com/github/AndreAmorim05/data-science/blob/main/Predi%C3%A7%C3%A3o_de_Faturamento_do_Novo_Filme_007.ipynb\" target=\"_parent\"><img src=\"https://colab.research.google.com/assets/colab-badge.svg\" alt=\"Open In Colab\"/></a>"
      ]
    },
    {
      "cell_type": "markdown",
      "metadata": {
        "id": "2W8b3R_QUskR"
      },
      "source": [
        "<center><strong><h1>Predição de Faturamento do Novo Filme 007</h1></strong>\n",
        "<center><img src=\"https://super.abril.com.br/wp-content/uploads/2021/09/SI_431_Abre-Playlist_gra%CC%81fico.png\" width=80%></img></center>\n",
        "\n",
        "<center><h6>Fonte: https://super.abril.com.br/cultura/qual-james-bond-matou-mais-e-qual-tomou-mais-biritas/ - acesso em 28/10/2021</h6>\n",
        "\n",
        "\n",
        "\n",
        "\n",
        "> 1)\tConsiderando que o próximo filme do 007 terá 16 unidades de álcool e 25 mortes, qual o faturamento esperado? Justifique seu raciocínio e o método utilizado, apresentando também a fórmula de cálculo e suas métricas.\n",
        "\n",
        "\n"
      ]
    },
    {
      "cell_type": "markdown",
      "metadata": {
        "id": "1FlhaN5yWvPj"
      },
      "source": [
        "# Considerações iniciais\n",
        "Para realização deste desafio algumas considerações iniciais serão tomadas para facilitar a exploração dos dados fornecidos e o desenvolvimento de um *dataset* capaz de alimentar um modelo preditivo com boa acurácia em suas previsões. Abaixo serão descritos os passos necessários para obtenção do *dataset*.\n"
      ]
    },
    {
      "cell_type": "markdown",
      "metadata": {
        "id": "5XsJSCh8Xpbl"
      },
      "source": [
        "# Interpretação dos dados\n",
        "O infográfico fornecido traz os dados de forma a simplificar a leitura e entendimento do leitor mesmo que este não tenha um conhecimento aprofundado sobre o assunto ou em interpretação de dados visuais, porém a forma como devemos proceder para construir nosso modelo preditivo necessita de uma abstração desses dados para que a máquina seja capaz de identificar os padrões mais fielmente.\n",
        "\n",
        "O entendimento dos dados é o primeiro e o mais primordial passo para o desenvolvimento da lógica, já que um bom modelo se baseia em uma boa compreensão dos dados pelo cientista de dados, pelo contrário, os valores obtidos dos modelos de *machine learning* serão inconclusivos e pouco irão condizer com o que se deve esperar na realidade.\n",
        "\n",
        "Como dito anteriormente o que podemos extrair do infográfico deve ser abstraído, em outras palavras simplificado, e trazido ao nosso contexto em uma visão mais analítica, a seguir estão listadas todas as variáveis fornecidas pelo infográfico:\n",
        "\n",
        "\n",
        "*   Ator;\n",
        "*   Quantidade de filmes por ator;\n",
        "*   Período de lançamento do(s) filme(s);\n",
        "*   Média de unidades de álcool consumida pelo ator nos filmes interpretados;\n",
        "*   Médias de mortes causadas pelo ator nos filmes interpretados;\n",
        "*   Bilheteria mundial média, por filme em US$.\n",
        "\n",
        "Continuando a análise podemos extrair mais três dados importantes:\n",
        "\n",
        "1.   Os valores da bilheteria são ajustados de acordo com a inflação, isso faz com que os valores mesmo de décadas atrás sejam trazidos a valores presentes, para uma comparação mais fiel;\n",
        "2.   Os números de Daniel Craig consideram apenas os 4 filmes já lançados, apesar de vermos 5 filmes no seu quantitativo, apenas quatro compõe sua base de cálculo, este filme extra no infográfico apenas remete ao próximo filme que ainda será lançado estrelado pelo ator;\n",
        "3.   A média elevada de Craig se deve a 007 Contra Spectre (2015), no qual ele mata 229 pessoas - a maioria delas em uma explosão no quartel-general do vilão Ernst Blofeld (Cristoph Waltz) provocada por ele. Esta informação será abordada no tópico seguinte mais profundamente.\n"
      ]
    },
    {
      "cell_type": "code",
      "metadata": {
        "id": "taUTN7Lok-_2"
      },
      "source": [
        "# importando blibliotecas necessárias\n",
        "import numpy as np\n",
        "import pandas as pd\n",
        "import seaborn as sns\n",
        "import matplotlib.pyplot as plt\n",
        "from sklearn.linear_model import LinearRegression\n",
        "from sklearn.neighbors import KNeighborsRegressor\n",
        "from sklearn.tree import DecisionTreeRegressor\n",
        "from sklearn.model_selection import train_test_split\n",
        "from sklearn.metrics import mean_absolute_error, mean_squared_error, r2_score\n",
        "sns.set()"
      ],
      "execution_count": null,
      "outputs": []
    },
    {
      "cell_type": "markdown",
      "metadata": {
        "id": "Zi1NY6PUZhaZ"
      },
      "source": [
        "# Tratamento dos dados\n",
        "\n",
        "Antes de introduzir os conceitos chave dessa seção vamos a uma visualização de dois dados importantes para a nossa problemática presente, a quantidade de mortes e as unidades de álcool, plotando um gráfico de uma em função da outra teremos:"
      ]
    },
    {
      "cell_type": "code",
      "metadata": {
        "colab": {
          "base_uri": "https://localhost:8080/",
          "height": 235
        },
        "id": "lfvb32wEGFou",
        "outputId": "b64dbfa0-f9d9-4524-ca65-9d45b859510e"
      },
      "source": [
        "# declarando os valores\n",
        "labels = ['Álcool', 'Mortes']\n",
        "alcool = np.array([11.5,9.5,11.5,4.75,12,16.4])\n",
        "mortes = np.array([12.5,5,16.6,10,27,68.75])\n",
        "\n",
        "# criando o Dataframe com os dados declarados\n",
        "relacao = pd.DataFrame(list(zip(alcool, mortes)), columns=labels)\n",
        "\n",
        "# apresentando os dados\n",
        "relacao.head(6)"
      ],
      "execution_count": null,
      "outputs": [
        {
          "output_type": "execute_result",
          "data": {
            "text/html": [
              "<div>\n",
              "<style scoped>\n",
              "    .dataframe tbody tr th:only-of-type {\n",
              "        vertical-align: middle;\n",
              "    }\n",
              "\n",
              "    .dataframe tbody tr th {\n",
              "        vertical-align: top;\n",
              "    }\n",
              "\n",
              "    .dataframe thead th {\n",
              "        text-align: right;\n",
              "    }\n",
              "</style>\n",
              "<table border=\"1\" class=\"dataframe\">\n",
              "  <thead>\n",
              "    <tr style=\"text-align: right;\">\n",
              "      <th></th>\n",
              "      <th>Álcool</th>\n",
              "      <th>Mortes</th>\n",
              "    </tr>\n",
              "  </thead>\n",
              "  <tbody>\n",
              "    <tr>\n",
              "      <th>0</th>\n",
              "      <td>11.50</td>\n",
              "      <td>12.50</td>\n",
              "    </tr>\n",
              "    <tr>\n",
              "      <th>1</th>\n",
              "      <td>9.50</td>\n",
              "      <td>5.00</td>\n",
              "    </tr>\n",
              "    <tr>\n",
              "      <th>2</th>\n",
              "      <td>11.50</td>\n",
              "      <td>16.60</td>\n",
              "    </tr>\n",
              "    <tr>\n",
              "      <th>3</th>\n",
              "      <td>4.75</td>\n",
              "      <td>10.00</td>\n",
              "    </tr>\n",
              "    <tr>\n",
              "      <th>4</th>\n",
              "      <td>12.00</td>\n",
              "      <td>27.00</td>\n",
              "    </tr>\n",
              "    <tr>\n",
              "      <th>5</th>\n",
              "      <td>16.40</td>\n",
              "      <td>68.75</td>\n",
              "    </tr>\n",
              "  </tbody>\n",
              "</table>\n",
              "</div>"
            ],
            "text/plain": [
              "   Álcool  Mortes\n",
              "0   11.50   12.50\n",
              "1    9.50    5.00\n",
              "2   11.50   16.60\n",
              "3    4.75   10.00\n",
              "4   12.00   27.00\n",
              "5   16.40   68.75"
            ]
          },
          "metadata": {},
          "execution_count": 2
        }
      ]
    },
    {
      "cell_type": "code",
      "metadata": {
        "colab": {
          "base_uri": "https://localhost:8080/",
          "height": 373
        },
        "id": "klVnaSj3LxwJ",
        "outputId": "62870f0b-e6c8-48e5-f743-8f3cad46d9cd"
      },
      "source": [
        "# instanciando um plot para os dados, alterando os limites do eixo y e em seguida plotando\n",
        "g = sns.lmplot(x=\"Álcool\", y=\"Mortes\", data=relacao, aspect=2);\n",
        "g = g.set(ylim=(0,70))\n",
        "g;"
      ],
      "execution_count": null,
      "outputs": [
        {
          "output_type": "display_data",
          "data": {
            "image/png": "[encoded data removed]",
            "text/plain": [
              "<Figure size 720x360 with 1 Axes>"
            ]
          },
          "metadata": {
            "needs_background": "light"
          }
        }
      ]
    },
    {
      "cell_type": "code",
      "metadata": {
        "colab": {
          "base_uri": "https://localhost:8080/",
          "height": 369
        },
        "id": "DYhdrJeZ84eY",
        "outputId": "7ba9c1f0-78a9-492c-afe1-d8e8dc868fa6"
      },
      "source": [
        "# plotando um boxplot para análise dadistribuição dos dados\n",
        "sns.catplot(data=relacao, kind='box', aspect=2, orient='h');"
      ],
      "execution_count": null,
      "outputs": [
        {
          "output_type": "display_data",
          "data": {
            "image/png": "[encoded data removed]",
            "text/plain": [
              "<Figure size 720x360 with 1 Axes>"
            ]
          },
          "metadata": {
            "needs_background": "light"
          }
        }
      ]
    },
    {
      "cell_type": "markdown",
      "metadata": {
        "id": "W9Je74I-FMKU"
      },
      "source": [
        "Analisando os gráficos acima, podemos notar que a curva de regressão busca se alinhar de forma a compensar o último dado que está causando um desbalanceamento nos dados, esse desbalanceamento é conhecido como *Outlier*, e podemos ter uma visualização melhor deste no Boxplot, onde o ponto mais à direita na relação de mortes nos indica que este dado se trata de um *Outlier*. Este causa desbalanceamento nos dados, logo deve ser tratado para se ter um estudo mais correto, pois este único dado é capaz de desmantelar todo nosso sistema, para demonstrar visualmente o que ocorre se esse *Outlier* abaixo o mesmo plot será realizado porém agora sem o último dado."
      ]
    },
    {
      "cell_type": "code",
      "metadata": {
        "colab": {
          "base_uri": "https://localhost:8080/",
          "height": 373
        },
        "id": "M_34PCXSPSWH",
        "outputId": "76d58a9b-594e-41cc-bc9b-0882f550233f"
      },
      "source": [
        "# declarando novas variáveis com os dados já declarados excluindo apenas os dados do ator Daniel Craig\n",
        "alcool2 = alcool[:-1]\n",
        "mortes2 = mortes[:-1]\n",
        "\n",
        "# definindo um novo Dataframe\n",
        "relacao2 = pd.DataFrame(list(zip(alcool2, mortes2)), columns=labels)\n",
        "\n",
        "# instanciando um novo plot para os dados declarados acima, limitando o eixo y e em seguida plotando\n",
        "g2 = sns.lmplot(x=\"Álcool\", y=\"Mortes\", data=relacao2, aspect=2);\n",
        "g2 = g2.set(ylim=(0,40))\n",
        "g2;"
      ],
      "execution_count": null,
      "outputs": [
        {
          "output_type": "display_data",
          "data": {
            "image/png": "[encoded data removed]",
            "text/plain": [
              "<Figure size 720x360 with 1 Axes>"
            ]
          },
          "metadata": {
            "needs_background": "light"
          }
        }
      ]
    },
    {
      "cell_type": "code",
      "metadata": {
        "colab": {
          "base_uri": "https://localhost:8080/",
          "height": 369
        },
        "id": "va_f0uBv8Bqz",
        "outputId": "0e2141c5-c27b-4c89-c6cf-f9ac9fcbbbf1"
      },
      "source": [
        "# plotando um boxplot para análise dadistribuição dos dados\n",
        "sns.catplot(data=relacao2, kind='box', aspect=2, orient='h');"
      ],
      "execution_count": null,
      "outputs": [
        {
          "output_type": "display_data",
          "data": {
            "image/png": "[encoded data removed]",
            "text/plain": [
              "<Figure size 720x360 with 1 Axes>"
            ]
          },
          "metadata": {
            "needs_background": "light"
          }
        }
      ]
    },
    {
      "cell_type": "markdown",
      "metadata": {
        "id": "V-CXLWuWQj_E"
      },
      "source": [
        "Como podemos ver é notável o quanto a curva se enquadra melhor a esses dados, pois, todos estão dentro de uma faixa aceitável, portanto esses dados não causam anomalias em nossa análise. Entretanto a forma utilizada para o tratamento do *Outlier* não foi a menos drástica possível, pois acabamos por remover todos os dados do ator Daniel Craig, o que vai causar um desbalanceamento indesejado nos dados que possuimos, limitando a capacidade do nosso modelo de encontrar as estatísticas necessárias para previsões mais acertivas. Logo, a seguir apresentamos uma forma de remover o *Outlier* de forma menos danosa à nossa base de dados.\n",
        "\n",
        "\n",
        "\n",
        "> Pelo *Boxplot* ainda podemos notar dois *Outliers*, mesmo estes não sendo algo desejado em um *dataset* não iremos intervir nestes em específico já que a base de dados não possui dados suficientes para intervirmos como desejado\n",
        "\n"
      ]
    },
    {
      "cell_type": "markdown",
      "metadata": {
        "id": "VMhjJE-yTDvG"
      },
      "source": [
        "## Tratando o *Outlier*\n",
        "\n",
        "Um dos dados mais importantes para o tratamento do *Outlier* é a informação 3 do tópico **Interpretação dos Dados**, a qual diz:\n",
        "\n",
        "\n",
        "> A média elevada de Craig se deve a 007 Contra Spectre (2015), no qual ele mata 229 pessoas - a maioria delas em uma explosão no quartel-general do vilão Ernst Blofeld (Cristoph Waltz) provocada por ele.\n",
        "\n",
        "Logo nosso *Outlier* se deve exclusivamente aos dados deste filme, para a remoção deste *Outlier* sem removermos todos os dados do ator duas considerações devem ser tomadas:\n",
        "\n",
        "\n",
        "1.   A remoção de um filme não irá impactar significativamente na média de unidades de álcool;\n",
        "2.   A remoção de um filme não irá impactar significativamente na média de bilheteria dos filmes de Daniel Craig.\n",
        "\n",
        "Com essas duas condições satisfeitas podemos utilizar de artifícios matemáticos para tratar a quantidade de mortes, como esse dado se caracteriza em torno de uma média iremos escrever a média de mortes como sendo uma variável genérica X, a qual representa a nossa nova média para os 3 filmes que serão considerados, somadas ao nosso *Outlier* de 229 mortes dividido pela quantidade total de filmes sendo igual ao total médio de mortes já fornecido (68,75):\n",
        "\n",
        "<br>\n",
        "<h2><center> $\\frac{3X+229}{4}$ = 68,75</center></h2>\n",
        "<br>\n",
        "\n",
        "Isolando-se o X que representa o valor da nova média teremos:\n",
        "\n",
        "<br>\n",
        "<h2><center> X = $\\frac{4 \\times 68,75 - 229}{3}$ = 15,33</center></h2>\n",
        "<br>\n",
        "\n",
        "Logo, ao removermos o filme que desbalanceava nossos dados a média de morte passa a ser aproximadamente de 15,33 por filme.\n",
        "\n",
        "Ao realizar o plot já visto da relação entre Unidades de Álcool e Mortes agora adicionando a correção dos filmes de Daniel Craig teremos o gráfico corrigido.\n",
        "\n",
        "\n",
        "\n"
      ]
    },
    {
      "cell_type": "code",
      "metadata": {
        "colab": {
          "base_uri": "https://localhost:8080/",
          "height": 373
        },
        "id": "QsdMOQakibbo",
        "outputId": "62072fb0-0abc-4729-b3d0-df8680c5f097"
      },
      "source": [
        "# definindo os dados com a correção\n",
        "alcool3 = np.array([11.5,9.5,11.5,4.75,12,16.4])\n",
        "mortes3 = np.array([12.5,5,16.6,10,27,15.33])\n",
        "\n",
        "# criando o Dataframe com os dados declarados\n",
        "relacao3 = pd.DataFrame(list(zip(alcool3, mortes3)), columns=labels)\n",
        "\n",
        "# instanciando um novo plot para os dados declarados acima, limitando o eixo y e em seguida plotando\n",
        "g3 = sns.lmplot(x=\"Álcool\", y=\"Mortes\", data=relacao3, aspect=2);\n",
        "g3 = g3.set(ylim=(0,40))\n",
        "g3;"
      ],
      "execution_count": null,
      "outputs": [
        {
          "output_type": "display_data",
          "data": {
            "image/png": "[encoded data removed]",
            "text/plain": [
              "<Figure size 720x360 with 1 Axes>"
            ]
          },
          "metadata": {
            "needs_background": "light"
          }
        }
      ]
    },
    {
      "cell_type": "code",
      "metadata": {
        "colab": {
          "base_uri": "https://localhost:8080/",
          "height": 369
        },
        "id": "IQ8aK0dZ8Qwz",
        "outputId": "8015c676-e03e-473f-ce42-9a8033ee737b"
      },
      "source": [
        "# plotando um boxplot para análise dadistribuição dos dados\n",
        "sns.catplot(data=relacao3, kind='box', aspect=2, orient='h');"
      ],
      "execution_count": null,
      "outputs": [
        {
          "output_type": "display_data",
          "data": {
            "image/png": "[encoded data removed]",
            "text/plain": [
              "<Figure size 720x360 with 1 Axes>"
            ]
          },
          "metadata": {
            "needs_background": "light"
          }
        }
      ]
    },
    {
      "cell_type": "markdown",
      "metadata": {
        "id": "6WKw_NcU_BcR"
      },
      "source": [
        "> Reforçando novamente, apesar de ainda possuirmos dados categorizados como *Outliers*, a base de dados por ser muito pequena nos impossibilita de tratar ou removê-los como foi feito anteriormente, mas em casos em que possuimos muitas entradas a manipulação do *Dataset* pode ser algo menos invasivo, que não é o caso deste projeto, a exclusão indevida de qualquer dado ou sua indevida manipulação pode ser muito danosa ao resultado final da análise.\n",
        "\n"
      ]
    },
    {
      "cell_type": "markdown",
      "metadata": {
        "id": "kVjWOgSRZmJ5"
      },
      "source": [
        "# Modelando o *Dataset*\n",
        "Algumas particularidades serão apresentadas na construção deste *Dataset*, pois, a baixa quantidade de dados faz com que o modelo não tenha informações suficientes para entender fucientemente as relações entre cada variável independente e dependente (*target*), logo abaixo será descrito como será a abordagem com cada variável:\n",
        "\n",
        "\n",
        "1.   Ano de lançamento - esta informação por ser pouco definida, já que os anos de cada filme não são especificados com precisão, apenas uma faixa é dada (exceto para George Lazenby que estreou um único filme), portanto essa informação será relavante apenas para dividirmos nosso *Dataset* entre dados de treino e dados de teste;\n",
        "2.   Ator - apesar do ator ser uma das chaves mais importantes em uma produção cinematográfica, para a nossa problematica não terá uma relevância para a determinação da bilheteria, pois, nossas predições serão baseadas em filmes futuros que não necessariamente serão interpretados pelos atores anteriores, logo essa será descartada;\n",
        "3.   Quantidade de filmes - dentre nossos dados este é o único não representado por uma média, portanto por ser uma valor fíxo ele acaba causando anomalias em nossas predições caso seja considerado como um valor inteiro (ex. 1,2,5,10...), para evitar tais anomalias e ainda enriquecer nosso *Dataframe* foi determinado que a quantidade de filmes irá representar a quantidade de vezes que um mesmo conjunto de dados será repetido, como estamos lidando com médias não há danos aos dados caso hajam linhas repetidas, isso irá apenas acrescentar um peso maior aos dados mais presentes na hora do modelo identificar os padrões;\n",
        "4.   Média de unidades de álcool - este se manterá inalterado;\n",
        "5.   Média de mortes - está será alterada de acordo com o tratamento de dados já realizado, impactando na exclusão de um dos filmes;\n",
        "6.   Bilheteria - este se manterá inalterado.\n",
        "\n",
        "\n"
      ]
    },
    {
      "cell_type": "code",
      "metadata": {
        "colab": {
          "base_uri": "https://localhost:8080/",
          "height": 204
        },
        "id": "MGdC1VAWj7p9",
        "outputId": "a1cdde29-088b-4f46-ac18-c636e28335f0"
      },
      "source": [
        "lb = ['ator', 'anos','alcool','mortes','bilheteria']\n",
        "dt = np.array([['Sean Connery','1962-1967/1971',11.5,12.5,809.2],\n",
        "               ['Sean Connery','1962-1967/1971',11.5,12.5,809.2],\n",
        "               ['Sean Connery','1962-1967/1971',11.5,12.5,809.2],\n",
        "               ['Sean Connery','1962-1967/1971',11.5,12.5,809.2],\n",
        "               ['Sean Connery','1962-1967/1971',11.5,12.5,809.2],\n",
        "               ['Sean Connery','1962-1967/1971',11.5,12.5,809.2],\n",
        "               ['George Lazenby','1969',9.5,5,563],\n",
        "               ['Roger Moore','1973-1985',11.5,16.6,613],\n",
        "               ['Roger Moore','1973-1985',11.5,16.6,613],\n",
        "               ['Roger Moore','1973-1985',11.5,16.6,613],\n",
        "               ['Roger Moore','1973-1985',11.5,16.6,613],\n",
        "               ['Roger Moore','1973-1985',11.5,16.6,613],\n",
        "               ['Roger Moore','1973-1985',11.5,16.6,613],\n",
        "               ['Roger Moore','1973-1985',11.5,16.6,613],\n",
        "               ['Timothy Dalton','1987-1989',4.75,10,370.7],\n",
        "               ['Timothy Dalton','1987-1989',4.75,10,370.7],\n",
        "               ['Pierce Brosnan','1995-2002',12,27,568.6],\n",
        "               ['Pierce Brosnan','1995-2002',12,27,568.6],\n",
        "               ['Pierce Brosnan','1995-2002',12,27,568.6],\n",
        "               ['Pierce Brosnan','1995-2002',12,27,568.6],\n",
        "               ['Daniel Craig','2006-2021',16.4,15.33,897.3],\n",
        "               ['Daniel Craig','2006-2021',16.4,15.33,897.3],\n",
        "               ['Daniel Craig','2006-2021',16.4,15.33,897.3],\n",
        "               ])\n",
        "\n",
        "df = pd.DataFrame(dt,columns=lb)\n",
        "df.head()"
      ],
      "execution_count": null,
      "outputs": [
        {
          "output_type": "execute_result",
          "data": {
            "text/html": [
              "<div>\n",
              "<style scoped>\n",
              "    .dataframe tbody tr th:only-of-type {\n",
              "        vertical-align: middle;\n",
              "    }\n",
              "\n",
              "    .dataframe tbody tr th {\n",
              "        vertical-align: top;\n",
              "    }\n",
              "\n",
              "    .dataframe thead th {\n",
              "        text-align: right;\n",
              "    }\n",
              "</style>\n",
              "<table border=\"1\" class=\"dataframe\">\n",
              "  <thead>\n",
              "    <tr style=\"text-align: right;\">\n",
              "      <th></th>\n",
              "      <th>ator</th>\n",
              "      <th>anos</th>\n",
              "      <th>alcool</th>\n",
              "      <th>mortes</th>\n",
              "      <th>bilheteria</th>\n",
              "    </tr>\n",
              "  </thead>\n",
              "  <tbody>\n",
              "    <tr>\n",
              "      <th>0</th>\n",
              "      <td>Sean Connery</td>\n",
              "      <td>1962-1967/1971</td>\n",
              "      <td>11.5</td>\n",
              "      <td>12.5</td>\n",
              "      <td>809.2</td>\n",
              "    </tr>\n",
              "    <tr>\n",
              "      <th>1</th>\n",
              "      <td>Sean Connery</td>\n",
              "      <td>1962-1967/1971</td>\n",
              "      <td>11.5</td>\n",
              "      <td>12.5</td>\n",
              "      <td>809.2</td>\n",
              "    </tr>\n",
              "    <tr>\n",
              "      <th>2</th>\n",
              "      <td>Sean Connery</td>\n",
              "      <td>1962-1967/1971</td>\n",
              "      <td>11.5</td>\n",
              "      <td>12.5</td>\n",
              "      <td>809.2</td>\n",
              "    </tr>\n",
              "    <tr>\n",
              "      <th>3</th>\n",
              "      <td>Sean Connery</td>\n",
              "      <td>1962-1967/1971</td>\n",
              "      <td>11.5</td>\n",
              "      <td>12.5</td>\n",
              "      <td>809.2</td>\n",
              "    </tr>\n",
              "    <tr>\n",
              "      <th>4</th>\n",
              "      <td>Sean Connery</td>\n",
              "      <td>1962-1967/1971</td>\n",
              "      <td>11.5</td>\n",
              "      <td>12.5</td>\n",
              "      <td>809.2</td>\n",
              "    </tr>\n",
              "  </tbody>\n",
              "</table>\n",
              "</div>"
            ],
            "text/plain": [
              "           ator            anos alcool mortes bilheteria\n",
              "0  Sean Connery  1962-1967/1971   11.5   12.5      809.2\n",
              "1  Sean Connery  1962-1967/1971   11.5   12.5      809.2\n",
              "2  Sean Connery  1962-1967/1971   11.5   12.5      809.2\n",
              "3  Sean Connery  1962-1967/1971   11.5   12.5      809.2\n",
              "4  Sean Connery  1962-1967/1971   11.5   12.5      809.2"
            ]
          },
          "metadata": {},
          "execution_count": 9
        }
      ]
    },
    {
      "cell_type": "markdown",
      "metadata": {
        "id": "w2YpJosIaRip"
      },
      "source": [
        "## Dados de treino e teste\n",
        "Como dito no quesito 1 do tópico **Modelando o Dataset**, nossos dados serão divididos de acordo com a data de lançamento, foi optado por se dividir como dados de treino os filmes lançados antes da década de 90 e após serão os dados de teste, podemos fazer isso devido aos dados de bilheteria estarem ajustados de acordo com a inflação, caso contrário outra abordagem deveria ser tomada na hora de se dividir o *Dataset*.\n",
        "A própria biblioteca do *Scikit Learn* já fornece uma função para realizar essa separação de dados, porém, para nosso caso utilizá-la causaria um *Overfitting*, que significa que o modelo irá se adequar muito bem aos dados de treino e será muito ruim em conseguir prever novos dados."
      ]
    },
    {
      "cell_type": "code",
      "metadata": {
        "id": "-GJLi0QVjpK3"
      },
      "source": [
        "# dividindo os dados entre variáveis independentes X e dependentes y\n",
        "X = df.drop(['bilheteria','anos'], axis=1)\n",
        "y = df[['ator','bilheteria']]\n",
        "\n",
        "\n",
        "# divisão dos dados independentes para treino\n",
        "X_train = X[(X['ator'] != 'Pierce Brosnan') & (X['ator'] != 'Daniel Craig')]\n",
        "X_train = X_train.drop('ator', axis=1)\n",
        "\n",
        "# divisão dos dados dependentes para treino\n",
        "y_train = y[(y['ator'] != 'Pierce Brosnan') & (y['ator'] != 'Daniel Craig')]\n",
        "y_train = y_train.drop('ator', axis=1)\n",
        "\n",
        "# divisão dos dados independentes para teste\n",
        "X_test = X[(X['ator'] == 'Pierce Brosnan') | (X['ator'] == 'Daniel Craig')]\n",
        "X_test = X_test.drop('ator', axis=1)\n",
        "\n",
        "# divisão dos dados dependentes para teste\n",
        "y_test = y[(y['ator'] == 'Pierce Brosnan') | (y['ator'] == 'Daniel Craig')]\n",
        "y_test = y_test.drop('ator', axis=1)\n"
      ],
      "execution_count": null,
      "outputs": []
    },
    {
      "cell_type": "markdown",
      "metadata": {
        "id": "5BSunO3uaUaQ"
      },
      "source": [
        "# Determinando o Modelo de *Machine Learning*\n",
        "Através de uma breve análise dos dados é notável que nossos dados serão melhor explorados em modelos que trabalham com regressão, já que estamos lidando com um *target* de valor contínuo, para determinar o modelo ideal abaixo temos um estudo de alguns modelos."
      ]
    },
    {
      "cell_type": "code",
      "metadata": {
        "id": "x2AgvNgO4N2O"
      },
      "source": [
        "# função para determinação de desempenho do modelo treinado\n",
        "def desempenho(model, X_test):\n",
        "  # fazer previsão em cima de novos dados\n",
        "  y_pred = model.predict(X_test)\n",
        "  # avaliando o desempenho do modelo\n",
        "  print('R2 Score:\\t', r2_score(y_test, y_pred))\n",
        "  print('MAE:\\t\\t', mean_absolute_error(y_test, y_pred))\n",
        "  print('MSE:\\t\\t', mean_squared_error(y_test, y_pred))\n",
        "  print(\"\"\"\n",
        "  O R2 SCORE representa o quão melhor nosso modelo é quando comparado ao cálculo da variância \n",
        "  dos dados, o quanto ele pode explicar melhor o comportamento dos valores, isto está \n",
        "  ligado diretamente à questões de quão bem nosso modelo está ajustado para predição, \n",
        "  quanto mais próximo de 1 melhor o modelo, o valor pode se apresentar negativo, o que \n",
        "  indica que os calculos da variância do modelo sobressaem-se aos calculos da variância \n",
        "  dos dados, mostrando que este modelo se encontra em uma situação em que a própria \n",
        "  variância dos dados representa um melhor modelo preditivo quando comparado ao modelo treinado.\n",
        "\n",
        "  Com as outras métricas (MAE e MSE) de desempenho podemos avaliar os erros médios entre modelos \n",
        "  diferentes, quanto menores forem esses erros melhor é o desempenho do modelo.\n",
        "  \"\"\")"
      ],
      "execution_count": null,
      "outputs": []
    },
    {
      "cell_type": "markdown",
      "metadata": {
        "id": "jjYNPmdF16lm"
      },
      "source": [
        "### Cross Validation\n",
        "Apesar de ser interessante utilizar alguma forma de *Cross Validation* em um projeto de análise de dados, tais métodos são realmente relevantes quando se pode utilizar amostras suficientemente grandes, em que cada divisão seja capaz de representar o *Dataset* por inteiro, para nosso projeto pequenas amostras não necessariamente são capazes de representar nossa base de dados o que exclui em partes a utilização de um cross validation mais amplo, o método mais simplificado que iremos utilizar se baseia apenas em utilizar nossos dados de treino e teste previamente determinados, sem realizar nenhuma repartição extra ou modificação."
      ]
    },
    {
      "cell_type": "markdown",
      "metadata": {
        "id": "l8hvJ59tD1Ck"
      },
      "source": [
        "## Regressão Linear\n",
        "A regressão linear é um dos métodos mais simples e utilizados quando se trata de uma base de dados com *target* de valores contínuos, tanto por sua simplicidade quanto por sua boa aproximação para dados que apresentem uma relação direta ou indiretamente proporcional. Sua base de cálculos é relativamente simples onde o modelo se trata de uma reta do tipo $\\hat{y} = \\theta_0 + \\theta_1 x_1$, onde $\\hat{y}$ é o valor que desejamos prever.\n",
        "\n",
        "Um dos métodos de correção dos parâmetros de cálculo da regressão linear é o cálculo de erro quadrático médio (*Mean Squared Error* - MSE) para todos os pontos.\n",
        "\n",
        "$$MSE = \\frac{1}{n} \\sum_{i=1}^{n}(y_i - \\hat{y}_i)^2$$\n",
        "\n",
        "Em essencia essa equação calcula a distância de cada ponto à reta, quanto menor esse erro melhor será a predição realizada pelo nosso modelo. O `scikit-learn` realiza esses cálculos e armazena os coeficientes e o intercepto, que respectivamente são os valores  que alteram a angulação da reta e o valor único que indica onde a curva toca o eixo das ordenadas quando os coeficientes são igual a zero."
      ]
    },
    {
      "cell_type": "code",
      "metadata": {
        "colab": {
          "base_uri": "https://localhost:8080/"
        },
        "id": "YeUogjGxFsM0",
        "outputId": "ecc818e2-269a-4507-81cc-3b9d5db780f7"
      },
      "source": [
        "# instanciando modelo e escolhendo os hiperparametros\n",
        "reg_model = LinearRegression(fit_intercept=True, normalize=True)\n",
        "\n",
        "# fit do modelo (treinar)\n",
        "reg_model.fit(X_train, y_train)"
      ],
      "execution_count": null,
      "outputs": [
        {
          "output_type": "execute_result",
          "data": {
            "text/plain": [
              "LinearRegression(copy_X=True, fit_intercept=True, n_jobs=None, normalize=True)"
            ]
          },
          "metadata": {},
          "execution_count": 12
        }
      ]
    },
    {
      "cell_type": "code",
      "metadata": {
        "colab": {
          "base_uri": "https://localhost:8080/"
        },
        "id": "E2Oi3-V8Gfws",
        "outputId": "9506e4f4-78e6-4341-8ec5-3224760a2aef"
      },
      "source": [
        "print('Coeficientes:\\t', reg_model.coef_)\n",
        "print('Intercepto:\\t', reg_model.intercept_)"
      ],
      "execution_count": null,
      "outputs": [
        {
          "output_type": "stream",
          "name": "stdout",
          "text": [
            "Coeficientes:\t [[ 65.34972488 -19.26574519]]\n",
            "Intercepto:\t [225.27659173]\n"
          ]
        }
      ]
    },
    {
      "cell_type": "code",
      "metadata": {
        "colab": {
          "base_uri": "https://localhost:8080/"
        },
        "id": "LRvRTVkhGgoM",
        "outputId": "1eebbfea-4b52-4e9e-af18-fbeb62f7dc61"
      },
      "source": [
        "# avaliando o desempenho do modelo\n",
        "desempenho(reg_model, X_test)"
      ],
      "execution_count": null,
      "outputs": [
        {
          "output_type": "stream",
          "name": "stdout",
          "text": [
            "R2 Score:\t 0.6877551595863826\n",
            "MAE:\t\t 90.04456247353473\n",
            "MSE:\t\t 8261.898304101634\n",
            "\n",
            "  O R2 SCORE representa o quão melhor nosso modelo é quando comparado ao cálculo da variância \n",
            "  dos dados, o quanto ele pode explicar melhor o comportamento dos valores, isto está \n",
            "  ligado diretamente à questões de quão bem nosso modelo está ajustado para predição, \n",
            "  quanto mais próximo de 1 melhor o modelo, o valor pode se apresentar negativo, o que \n",
            "  indica que os calculos da variância do modelo sobressaem-se aos calculos da variância \n",
            "  dos dados, mostrando que este modelo se encontra em uma situação em que a própria \n",
            "  variância dos dados representa um melhor modelo preditivo quando comparado ao modelo treinado.\n",
            "\n",
            "  Com as outras métricas (MAE e MSE) de desempenho podemos avaliar os erros médios entre modelos \n",
            "  diferentes, quanto menores forem esses erros melhor é o desempenho do modelo.\n",
            "  \n"
          ]
        }
      ]
    },
    {
      "cell_type": "markdown",
      "metadata": {
        "id": "F49RjwN4UwH4"
      },
      "source": [
        "### Informações sobre o modelo treinado\n",
        "A alteração dos parâmetros do modelo se mostraram irrisórias, nenhum ganho ou perda se mostrou significativo na hora da modelagem, logo os parâmetros padrão da biblioteca foram conservados, já que estes apresentam o resultado base, sendo estes a `normalização` setada como Verdadeiro e o `fit_intercept` também como Verdadeiro, que garante que o intercepto seja calculado, este último sendo o único que traz uma real perda para o nosso modelo caso seja alterado para Falso."
      ]
    },
    {
      "cell_type": "markdown",
      "metadata": {
        "id": "beXZdJnUD8ub"
      },
      "source": [
        "## Árvore de Decisão\n",
        "\n",
        "As árvores de decisão ou *Decision Trees* são modelos utilizados tanto para regressão quanto classificação. São contruídas a partir indução, onde o modelo vai dividindo os dados em subconjuntos cada vez menores e mais puros. A seleção dos atributos que compõem a árvore, levam em consideração o grau de entropia (desordem) de um nó e qual informação é ganha a mais após uma divisão, em outras palavras o modelo busca subdividir os dados de forma a buscar um maior grau de separação onde esta seja capaz de cada divisão corresponda cada vez melhor ao esperado de um modelo preditivo, quanto mais fundo na árvore se encontra (até um certo ponto de ótimo), melhores são os resultados que o modelo pode fornecer em suas predições. "
      ]
    },
    {
      "cell_type": "code",
      "metadata": {
        "colab": {
          "base_uri": "https://localhost:8080/"
        },
        "id": "MrlL0JGtIYwZ",
        "outputId": "59fec490-978b-408a-98e3-dde3029d2f5d"
      },
      "source": [
        "# escolha dos hyperparameters\n",
        "tree_model = DecisionTreeRegressor(criterion='mse')\n",
        "\n",
        "# fit do modelo (treinar)\n",
        "tree_model.fit(X_train, y_train)"
      ],
      "execution_count": null,
      "outputs": [
        {
          "output_type": "execute_result",
          "data": {
            "text/plain": [
              "DecisionTreeRegressor(ccp_alpha=0.0, criterion='mse', max_depth=None,\n",
              "                      max_features=None, max_leaf_nodes=None,\n",
              "                      min_impurity_decrease=0.0, min_impurity_split=None,\n",
              "                      min_samples_leaf=1, min_samples_split=2,\n",
              "                      min_weight_fraction_leaf=0.0, presort='deprecated',\n",
              "                      random_state=None, splitter='best')"
            ]
          },
          "metadata": {},
          "execution_count": 15
        }
      ]
    },
    {
      "cell_type": "code",
      "metadata": {
        "colab": {
          "base_uri": "https://localhost:8080/"
        },
        "id": "1GTvT91AJESr",
        "outputId": "8441f3ef-5469-48d1-ff73-aaad9b2726eb"
      },
      "source": [
        "# avaliando o desempenho do modelo\n",
        "desempenho(tree_model, X_test)"
      ],
      "execution_count": null,
      "outputs": [
        {
          "output_type": "stream",
          "name": "stdout",
          "text": [
            "R2 Score:\t -0.35173278050758916\n",
            "MAE:\t\t 147.2142857142857\n",
            "MSE:\t\t 35766.4157142857\n",
            "\n",
            "  O R2 SCORE representa o quão melhor nosso modelo é quando comparado ao cálculo da variância \n",
            "  dos dados, o quanto ele pode explicar melhor o comportamento dos valores, isto está \n",
            "  ligado diretamente à questões de quão bem nosso modelo está ajustado para predição, \n",
            "  quanto mais próximo de 1 melhor o modelo, o valor pode se apresentar negativo, o que \n",
            "  indica que os calculos da variância do modelo sobressaem-se aos calculos da variância \n",
            "  dos dados, mostrando que este modelo se encontra em uma situação em que a própria \n",
            "  variância dos dados representa um melhor modelo preditivo quando comparado ao modelo treinado.\n",
            "\n",
            "  Com as outras métricas (MAE e MSE) de desempenho podemos avaliar os erros médios entre modelos \n",
            "  diferentes, quanto menores forem esses erros melhor é o desempenho do modelo.\n",
            "  \n"
          ]
        }
      ]
    },
    {
      "cell_type": "code",
      "metadata": {
        "colab": {
          "base_uri": "https://localhost:8080/",
          "height": 256
        },
        "id": "cZtdt5VAL2Va",
        "outputId": "49458016-5c0a-4a50-f8e0-852a0a12adb2"
      },
      "source": [
        "# importando bibliotecas para plotar o esquema da árvore de decisão programada\n",
        "from IPython.display import Image\n",
        "from sklearn.tree import export_graphviz\n",
        "import pydotplus\n",
        "\n",
        "# criar DOT\n",
        "dot = export_graphviz(tree_model, filled=True, rounded=True, \n",
        "                      feature_names=X_train.columns, special_characters=True, \n",
        "                      rotate=True)\n",
        "\n",
        "# plotar\n",
        "graph = pydotplus.graph_from_dot_data(dot)\n",
        "Image(graph.create_png())"
      ],
      "execution_count": null,
      "outputs": [
        {
          "output_type": "execute_result",
          "data": {
            "image/png": "[encoded data removed]",
            "text/plain": [
              "<IPython.core.display.Image object>"
            ]
          },
          "metadata": {},
          "execution_count": 17
        }
      ]
    },
    {
      "cell_type": "markdown",
      "metadata": {
        "id": "qNWP7xjlY6kr"
      },
      "source": [
        "### Informações sobre o modelo treinado\n",
        "Como os dados fornecidos para o modelo foram significativamente escassos o modelo teve muita dificuldade em realizar as subpartições, resultando em um modelo desbalanceado e com desemprenho extremamente ruim, mesmo reajustando os hiperparâmetros não foi possível uma melhora das métricas, apenas redução no desempenho deste, sendo que a única métrica que realmente realçou um pouco a diminuição dos erros foi determinar o critério de análise de erros para MSE (já explicada anteriormente no modelo de Regressão Linear).\n",
        "\n",
        "O fluxograma acima representa os passos de tomada de decisão da nossa Árvore, onde podemos analisar que as seguintes tomas de decisão devem ser realizadas para obtenção do resultado que satisfaz a questão do desafio:\n",
        "\n",
        "\n",
        "\n",
        "*   Quando setamos alcool para 16 unidade, alcoll > 7,125 portando o caminho do valor False é trilhado;\n",
        "*   Quando setamos mortes para 25, mortes > 14,55 portanto o resultado esperado desse modelo para a previsão será de **613,0 milhões de dólares**.\n",
        "\n"
      ]
    },
    {
      "cell_type": "markdown",
      "metadata": {
        "id": "qgijLDtHzTUP"
      },
      "source": [
        "## Modelo escolhido\n",
        "\n",
        "Apesar de possuir outros modelos com bases de cálculo baseadas em regressão os casos acima selecionados são os que nos dão uma visão mais detalhada de como podemos abordar nossa problemática, que cada problema exige um tratamento diferente e específico, onde cada modelo pode apresentar métricas melhores ou piores e que a exploração destes sempre é algo essencial para a obtenção dos melhores resultados.\n",
        "\n",
        "Nossa escolha para a predição foi a **Regressão Linear** já que obtivemos métricas de análise melhores com este modelo.\n",
        "\n",
        "Abaixo apresentamos um resumo das métricas de avalição dos modelos e evidenciamos o quanto o modelo de Regressão Linear se sobrepõe ao de Árvore de Decisão.\n",
        "\n",
        "```\n",
        "Métrica       Regressão Linear          Árvore de Decisão\n",
        "\n",
        "R2 Score:\t 0.6877551595863826        -0.35173278050758916\n",
        "\n",
        "MAE:\t\t  90.04456247353473         147.2142857142857\n",
        "\n",
        "MSE:\t\t  8261.898304101634         35766.4157142857\n",
        "```\n",
        "\n",
        "Podemos claramente notar a superioridade do modelo de Regressão linear onde tanto seus erros MAE e MSE são menores quanto seu R2 Score se aproxima de um, como já explicadas as métricas anteriormente\n",
        "\n",
        "\n"
      ]
    },
    {
      "cell_type": "markdown",
      "metadata": {
        "id": "nCM42GEySOaS"
      },
      "source": [
        "# Predição\n",
        "\n",
        "Agora com modelo escolhido e treinado com a configuração ideal para nosso *Dataset* podemos resolver o questionamento proposto para o desafio:\n",
        "\n",
        "\n",
        "> 1)\tConsiderando que o próximo filme do 007 terá 16 unidades de álcool e 25 mortes, qual o faturamento esperado? Justifique seu raciocínio e o método utilizado, apresentando também a fórmula de cálculo e suas métricas.\n",
        "\n"
      ]
    },
    {
      "cell_type": "code",
      "metadata": {
        "colab": {
          "base_uri": "https://localhost:8080/"
        },
        "id": "6q2BB3QkaUz4",
        "outputId": "1a972cfc-5706-4c97-8d79-8e5d49a3170e"
      },
      "source": [
        "def previsao(model, value=None):\n",
        "  if not value:\n",
        "    # criando um array com shape (1,2)\n",
        "    value = np.array([16,25]).reshape(1,-1)\n",
        "  labels = ['alcohol','kills']\n",
        "  # criando dataframe com os valores acima definidos\n",
        "  pred_value = pd.DataFrame(value, columns=labels)\n",
        "  # realizando predição e extraindo valor numérico da lista retornada\n",
        "  try:\n",
        "    prediction = model.predict(pred_value)[0][0]\n",
        "  except:\n",
        "    prediction = model.predict(pred_value)[0]\n",
        "  print('Bilheteria em milhões de US$ esperada para uma quantia de\\n16 unidades de Álcool e 25 Mortes:\\n','Milhões de US$: ', round(prediction, 1), sep='')\n",
        "\n",
        "# realizando previsão\n",
        "previsao(reg_model)"
      ],
      "execution_count": null,
      "outputs": [
        {
          "output_type": "stream",
          "name": "stdout",
          "text": [
            "Bilheteria em milhões de US$ esperada para uma quantia de\n",
            "16 unidades de Álcool e 25 Mortes:\n",
            "Milhões de US$: 789.2\n"
          ]
        }
      ]
    },
    {
      "cell_type": "markdown",
      "metadata": {
        "id": "oh5yFXfRB0ZH"
      },
      "source": [
        "# Conclusão\n",
        "\n",
        "Como objetivo encontramos um modelo preditivo com um *r2_score* de 0.68775 ou 68,775%, que foi capaz de nos prever um valor médio de **789,2 milhões de dólares** para o próximo filme que possua uma quantidade de 16 unidades de álcool e 25 mortes."
      ]
    }
  ]
}